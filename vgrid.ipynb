{
 "cells": [
  {
   "cell_type": "markdown",
   "id": "31b03bdf",
   "metadata": {},
   "source": [
    "# Vgrid Tutorial\n",
    "\n",
    "This tutorial demonstrates the main features and functionality of the `vgrid` package, a comprehensive toolkit for working with Discrete Global Grid Systems (DGGS) and cell-based geocoding.\n",
    "\n",
    "## Installation\n",
    "\n",
    "First, let's install the package:"
   ]
  },
  {
   "cell_type": "code",
   "execution_count": null,
   "id": "447c9607",
   "metadata": {},
   "outputs": [],
   "source": [
    "pip install vgrid --upgrade"
   ]
  },
  {
   "cell_type": "markdown",
   "id": "80cea1e0",
   "metadata": {},
   "source": [
    "---\n",
    "\n",
    "## 1. DGGS Conversion\n",
    "\n",
    "### 1.1 Converting Latitude/Longitude to DGGS\n",
    "\n",
    "Let's start with converting coordinates to different DGGS formats:"
   ]
  },
  {
   "cell_type": "code",
   "execution_count": 2,
   "id": "d87176d6",
   "metadata": {},
   "outputs": [
    {
     "name": "stdout",
     "output_type": "stream",
     "text": [
      "H3 cell: 8d65b56628e46bf\n",
      "S2 cell: 31752f45cc94\n",
      "rHEALPix cell: R31260362553552\n"
     ]
    }
   ],
   "source": [
    "from vgrid.conversion.latlon2dggs import latlon2h3, latlon2s2, latlon2rhealpix\n",
    "\n",
    "# Example coordinates (Ho Chi Minh City)\n",
    "lat, lon = 10.775276, 106.706797\n",
    "\n",
    "# Convert to H3\n",
    "h3_cell = latlon2h3(lat, lon, 13)\n",
    "print(f\"H3 cell: {h3_cell}\")\n",
    "\n",
    "# Convert to S2\n",
    "s2_cell = latlon2s2(lat, lon, 21)\n",
    "print(f\"S2 cell: {s2_cell}\")\n",
    "\n",
    "# Convert to rHEALPix\n",
    "rhealpix_cell = latlon2rhealpix(lat, lon, 14)\n",
    "print(f\"rHEALPix cell: {rhealpix_cell}\")"
   ]
  },
  {
   "cell_type": "markdown",
   "id": "fb967f59",
   "metadata": {},
   "source": [
    "---\n",
    "\n",
    "### 1.2 Converting DGGS to GeoJSON\n",
    "\n",
    "Let's convert DGGS cells to GeoJSON format for visualization:"
   ]
  },
  {
   "cell_type": "code",
   "execution_count": 3,
   "id": "07cdbc0f",
   "metadata": {},
   "outputs": [
    {
     "name": "stdout",
     "output_type": "stream",
     "text": [
      "H3 GeoJSON:\n",
      "{\"type\": \"FeatureCollection\", \"features\": [{\"type\": \"Feature\", \"geometry\": {\"type\": \"Polygon\", \"coordinates\": [[[106.70685294676993, 10.775282577331044], [106.70684396753691, 10.775321497336487], [106.70680574541893, 10.77533326670508], [106.7067765025362, 10.775306116058893], [106.70678548178074, 10.775267196047302], [106.70682370389648, 10.775255426688052], [106.70685294676993, 10.775282577331044]]]}, \"properties\": {\"h3\": \"8d65b56628e46bf\", \"resolution\": 13, \"center_lat\": 10.7752943, \"center_lon\": 106.7068147, \"avg_edge_len\": 4.394, \"cell_area\": 50.154}}]}\n",
      "\n",
      "S2 GeoJSON:\n",
      "{\"type\": \"FeatureCollection\", \"features\": [{\"type\": \"Feature\", \"geometry\": {\"type\": \"Polygon\", \"coordinates\": [[[106.70678675163612, 10.77525494295967], [106.70683281935317, 10.775252403494054], [106.70683281935317, 10.775294941745283], [106.70678675163612, 10.775297481220445], [106.70678675163612, 10.77525494295967]]]}, \"properties\": {\"s2\": \"31752f45cc94\", \"resolution\": 21, \"center_lat\": 10.7752749, \"center_lon\": 106.7068098, \"avg_edge_len\": 4.876, \"cell_area\": 23.707}}]}\n"
     ]
    }
   ],
   "source": [
    "from vgrid.conversion.dggs2geojson import h32geojson, s22geojson\n",
    "import json\n",
    "\n",
    "# Convert H3 cell to GeoJSON\n",
    "h3_geojson = h32geojson(h3_cell)\n",
    "print(\"H3 GeoJSON:\")\n",
    "print(json.dumps(h3_geojson))\n",
    "\n",
    "# Convert S2 cell to GeoJSON\n",
    "s2_geojson = s22geojson(s2_cell)\n",
    "print(\"\\nS2 GeoJSON:\")\n",
    "print(json.dumps(s2_geojson))"
   ]
  },
  {
   "cell_type": "markdown",
   "id": "d3ab64a0",
   "metadata": {},
   "source": [
    "---\n",
    "\n",
    "### 1.3 Vector to DGGS Conversion\n",
    "\n",
    "Let's convert a polygon to DGGS cells:"
   ]
  },
  {
   "cell_type": "code",
   "execution_count": 4,
   "id": "3e5c1c5c",
   "metadata": {},
   "outputs": [
    {
     "ename": "TypeError",
     "evalue": "'module' object is not callable",
     "output_type": "error",
     "traceback": [
      "\u001b[1;31m---------------------------------------------------------------------------\u001b[0m",
      "\u001b[1;31mTypeError\u001b[0m                                 Traceback (most recent call last)",
      "Cell \u001b[1;32mIn[4], line 19\u001b[0m\n\u001b[0;32m      4\u001b[0m polygon \u001b[38;5;241m=\u001b[39m {\n\u001b[0;32m      5\u001b[0m     \u001b[38;5;124m\"\u001b[39m\u001b[38;5;124mtype\u001b[39m\u001b[38;5;124m\"\u001b[39m: \u001b[38;5;124m\"\u001b[39m\u001b[38;5;124mFeature\u001b[39m\u001b[38;5;124m\"\u001b[39m,\n\u001b[0;32m      6\u001b[0m     \u001b[38;5;124m\"\u001b[39m\u001b[38;5;124mgeometry\u001b[39m\u001b[38;5;124m\"\u001b[39m: {\n\u001b[1;32m   (...)\u001b[0m\n\u001b[0;32m     15\u001b[0m     }\n\u001b[0;32m     16\u001b[0m }\n\u001b[0;32m     18\u001b[0m \u001b[38;5;66;03m# Convert to H3 cells\u001b[39;00m\n\u001b[1;32m---> 19\u001b[0m h3_cells \u001b[38;5;241m=\u001b[39m \u001b[43mgeojson2h3\u001b[49m\u001b[43m(\u001b[49m\u001b[43mpolygon\u001b[49m\u001b[43m,\u001b[49m\u001b[43m \u001b[49m\u001b[43mresolution\u001b[49m\u001b[38;5;241;43m=\u001b[39;49m\u001b[38;5;241;43m11\u001b[39;49m\u001b[43m,\u001b[49m\u001b[43m \u001b[49m\u001b[43mcompact\u001b[49m\u001b[38;5;241;43m=\u001b[39;49m\u001b[38;5;28;43;01mTrue\u001b[39;49;00m\u001b[43m)\u001b[49m\n\u001b[0;32m     20\u001b[0m \u001b[38;5;28mprint\u001b[39m(\u001b[38;5;124mf\u001b[39m\u001b[38;5;124m\"\u001b[39m\u001b[38;5;124mNumber of H3 cells: \u001b[39m\u001b[38;5;132;01m{\u001b[39;00m\u001b[38;5;28mlen\u001b[39m(h3_cells)\u001b[38;5;132;01m}\u001b[39;00m\u001b[38;5;124m\"\u001b[39m)\n",
      "\u001b[1;31mTypeError\u001b[0m: 'module' object is not callable"
     ]
    }
   ],
   "source": [
    "from vgrid.conversion.geojson2dggs import geojson2h3\n",
    "\n",
    "# Create a sample polygon\n",
    "polygon = {\n",
    "    \"type\": \"Feature\",\n",
    "    \"geometry\": {\n",
    "        \"type\": \"Polygon\",\n",
    "        \"coordinates\": [[\n",
    "            [106.7, 10.7],\n",
    "            [106.8, 10.7],\n",
    "            [106.8, 10.8],\n",
    "            [106.7, 10.8],\n",
    "            [106.7, 10.7]\n",
    "        ]]\n",
    "    }\n",
    "}\n",
    "\n",
    "# Convert to H3 cells\n",
    "h3_cells = geojson2h3(polygon, resolution=11, compact=True)\n",
    "print(f\"Number of H3 cells: {len(h3_cells)}\")"
   ]
  },
  {
   "cell_type": "markdown",
   "id": "743fce52",
   "metadata": {},
   "source": [
    "---\n",
    "\n",
    "## 2. DGGS Operations\n",
    "\n",
    "### 2.1 DGGS Compaction\n",
    "\n",
    "Let's demonstrate how to compact DGGS cells:"
   ]
  },
  {
   "cell_type": "code",
   "execution_count": 5,
   "id": "5b84ad6a",
   "metadata": {},
   "outputs": [
    {
     "ename": "NameError",
     "evalue": "name 'h3_cells' is not defined",
     "output_type": "error",
     "traceback": [
      "\u001b[1;31m---------------------------------------------------------------------------\u001b[0m",
      "\u001b[1;31mNameError\u001b[0m                                 Traceback (most recent call last)",
      "Cell \u001b[1;32mIn[5], line 4\u001b[0m\n\u001b[0;32m      1\u001b[0m \u001b[38;5;28;01mfrom\u001b[39;00m \u001b[38;5;21;01mvgrid\u001b[39;00m\u001b[38;5;21;01m.\u001b[39;00m\u001b[38;5;21;01mconversion\u001b[39;00m\u001b[38;5;21;01m.\u001b[39;00m\u001b[38;5;21;01mdggscompact\u001b[39;00m \u001b[38;5;28;01mimport\u001b[39;00m h3compact\n\u001b[0;32m      3\u001b[0m \u001b[38;5;66;03m# Compact H3 cells\u001b[39;00m\n\u001b[1;32m----> 4\u001b[0m compacted_cells \u001b[38;5;241m=\u001b[39m h3compact(\u001b[43mh3_cells\u001b[49m)\n\u001b[0;32m      5\u001b[0m \u001b[38;5;28mprint\u001b[39m(\u001b[38;5;124mf\u001b[39m\u001b[38;5;124m\"\u001b[39m\u001b[38;5;124mNumber of cells before compaction: \u001b[39m\u001b[38;5;132;01m{\u001b[39;00m\u001b[38;5;28mlen\u001b[39m(h3_cells)\u001b[38;5;132;01m}\u001b[39;00m\u001b[38;5;124m\"\u001b[39m)\n\u001b[0;32m      6\u001b[0m \u001b[38;5;28mprint\u001b[39m(\u001b[38;5;124mf\u001b[39m\u001b[38;5;124m\"\u001b[39m\u001b[38;5;124mNumber of cells after compaction: \u001b[39m\u001b[38;5;132;01m{\u001b[39;00m\u001b[38;5;28mlen\u001b[39m(compacted_cells)\u001b[38;5;132;01m}\u001b[39;00m\u001b[38;5;124m\"\u001b[39m)\n",
      "\u001b[1;31mNameError\u001b[0m: name 'h3_cells' is not defined"
     ]
    }
   ],
   "source": [
    "from vgrid.conversion.dggscompact import h3compact\n",
    "\n",
    "# Compact H3 cells\n",
    "compacted_cells = h3compact(h3_cells)\n",
    "print(f\"Number of cells before compaction: {len(h3_cells)}\")\n",
    "print(f\"Number of cells after compaction: {len(compacted_cells)}\")"
   ]
  },
  {
   "cell_type": "markdown",
   "id": "e55d2895",
   "metadata": {},
   "source": [
    "---\n",
    "\n",
    "### 2.2 DGGS Expansion\n",
    "\n",
    "Let's demonstrate how to expand DGGS cells to a higher resolution:"
   ]
  },
  {
   "cell_type": "code",
   "execution_count": 6,
   "id": "74556b77",
   "metadata": {},
   "outputs": [
    {
     "ename": "NameError",
     "evalue": "name 'h3_cells' is not defined",
     "output_type": "error",
     "traceback": [
      "\u001b[1;31m---------------------------------------------------------------------------\u001b[0m",
      "\u001b[1;31mNameError\u001b[0m                                 Traceback (most recent call last)",
      "Cell \u001b[1;32mIn[6], line 4\u001b[0m\n\u001b[0;32m      1\u001b[0m \u001b[38;5;28;01mfrom\u001b[39;00m \u001b[38;5;21;01mvgrid\u001b[39;00m\u001b[38;5;21;01m.\u001b[39;00m\u001b[38;5;21;01mconversion\u001b[39;00m\u001b[38;5;21;01m.\u001b[39;00m\u001b[38;5;21;01mdggscompact\u001b[39;00m \u001b[38;5;28;01mimport\u001b[39;00m h3expand\n\u001b[0;32m      3\u001b[0m \u001b[38;5;66;03m# Expand H3 cells to a higher resolution\u001b[39;00m\n\u001b[1;32m----> 4\u001b[0m expanded_cells \u001b[38;5;241m=\u001b[39m h3expand(\u001b[43mh3_cells\u001b[49m, resolution\u001b[38;5;241m=\u001b[39m\u001b[38;5;241m12\u001b[39m)\n\u001b[0;32m      5\u001b[0m \u001b[38;5;28mprint\u001b[39m(\u001b[38;5;124mf\u001b[39m\u001b[38;5;124m\"\u001b[39m\u001b[38;5;124mNumber of cells before expansion: \u001b[39m\u001b[38;5;132;01m{\u001b[39;00m\u001b[38;5;28mlen\u001b[39m(h3_cells)\u001b[38;5;132;01m}\u001b[39;00m\u001b[38;5;124m\"\u001b[39m)\n\u001b[0;32m      6\u001b[0m \u001b[38;5;28mprint\u001b[39m(\u001b[38;5;124mf\u001b[39m\u001b[38;5;124m\"\u001b[39m\u001b[38;5;124mNumber of cells after expansion: \u001b[39m\u001b[38;5;132;01m{\u001b[39;00m\u001b[38;5;28mlen\u001b[39m(expanded_cells)\u001b[38;5;132;01m}\u001b[39;00m\u001b[38;5;124m\"\u001b[39m)\n",
      "\u001b[1;31mNameError\u001b[0m: name 'h3_cells' is not defined"
     ]
    }
   ],
   "source": [
    "from vgrid.conversion.dggscompact import h3expand\n",
    "\n",
    "# Expand H3 cells to a higher resolution\n",
    "expanded_cells = h3expand(h3_cells, resolution=12)\n",
    "print(f\"Number of cells before expansion: {len(h3_cells)}\")\n",
    "print(f\"Number of cells after expansion: {len(expanded_cells)}\")"
   ]
  },
  {
   "cell_type": "markdown",
   "id": "e6f18d71",
   "metadata": {},
   "source": [
    "---\n",
    "\n",
    "## 3. DGGS Binning\n",
    "\n",
    "Let's demonstrate how to bin points into DGGS cells:"
   ]
  },
  {
   "cell_type": "code",
   "execution_count": 7,
   "id": "aab1a3b7",
   "metadata": {},
   "outputs": [
    {
     "ename": "TypeError",
     "evalue": "'module' object is not callable",
     "output_type": "error",
     "traceback": [
      "\u001b[1;31m---------------------------------------------------------------------------\u001b[0m",
      "\u001b[1;31mTypeError\u001b[0m                                 Traceback (most recent call last)",
      "Cell \u001b[1;32mIn[7], line 29\u001b[0m\n\u001b[0;32m     13\u001b[0m points_geojson \u001b[38;5;241m=\u001b[39m {\n\u001b[0;32m     14\u001b[0m     \u001b[38;5;124m\"\u001b[39m\u001b[38;5;124mtype\u001b[39m\u001b[38;5;124m\"\u001b[39m: \u001b[38;5;124m\"\u001b[39m\u001b[38;5;124mFeatureCollection\u001b[39m\u001b[38;5;124m\"\u001b[39m,\n\u001b[0;32m     15\u001b[0m     \u001b[38;5;124m\"\u001b[39m\u001b[38;5;124mfeatures\u001b[39m\u001b[38;5;124m\"\u001b[39m: [\n\u001b[1;32m   (...)\u001b[0m\n\u001b[0;32m     25\u001b[0m     ]\n\u001b[0;32m     26\u001b[0m }\n\u001b[0;32m     28\u001b[0m \u001b[38;5;66;03m# Bin points into H3 cells\u001b[39;00m\n\u001b[1;32m---> 29\u001b[0m binned_cells \u001b[38;5;241m=\u001b[39m \u001b[43mh3bin\u001b[49m\u001b[43m(\u001b[49m\u001b[43mpoints_geojson\u001b[49m\u001b[43m,\u001b[49m\u001b[43m \u001b[49m\u001b[43mresolution\u001b[49m\u001b[38;5;241;43m=\u001b[39;49m\u001b[38;5;241;43m8\u001b[39;49m\u001b[43m,\u001b[49m\u001b[43m \u001b[49m\u001b[43mstats\u001b[49m\u001b[38;5;241;43m=\u001b[39;49m\u001b[38;5;124;43m'\u001b[39;49m\u001b[38;5;124;43mcount\u001b[39;49m\u001b[38;5;124;43m'\u001b[39;49m\u001b[43m,\u001b[49m\u001b[43m \u001b[49m\u001b[43mfield\u001b[49m\u001b[38;5;241;43m=\u001b[39;49m\u001b[38;5;124;43m'\u001b[39;49m\u001b[38;5;124;43mvalue\u001b[39;49m\u001b[38;5;124;43m'\u001b[39;49m\u001b[43m)\u001b[49m\n\u001b[0;32m     30\u001b[0m \u001b[38;5;28mprint\u001b[39m(\u001b[38;5;124m\"\u001b[39m\u001b[38;5;124mBinned cells:\u001b[39m\u001b[38;5;124m\"\u001b[39m)\n\u001b[0;32m     31\u001b[0m \u001b[38;5;28mprint\u001b[39m(json\u001b[38;5;241m.\u001b[39mdumps(binned_cells, indent\u001b[38;5;241m=\u001b[39m\u001b[38;5;241m2\u001b[39m))\n",
      "\u001b[1;31mTypeError\u001b[0m: 'module' object is not callable"
     ]
    }
   ],
   "source": [
    "from vgrid.binning import h3bin\n",
    "import pandas as pd\n",
    "import json\n",
    "\n",
    "# Create sample points\n",
    "points = pd.DataFrame({\n",
    "    'lat': [10.7, 10.75, 10.8],\n",
    "    'lon': [106.7, 106.75, 106.8],\n",
    "    'value': [1, 2, 3]\n",
    "})\n",
    "\n",
    "# Convert to GeoJSON\n",
    "points_geojson = {\n",
    "    \"type\": \"FeatureCollection\",\n",
    "    \"features\": [\n",
    "        {\n",
    "            \"type\": \"Feature\",\n",
    "            \"geometry\": {\n",
    "                \"type\": \"Point\",\n",
    "                \"coordinates\": [row['lon'], row['lat']],\n",
    "            },\n",
    "            \"properties\": {\"value\": row['value']},\n",
    "        }\n",
    "        for _, row in points.iterrows()\n",
    "    ]\n",
    "}\n",
    "\n",
    "# Bin points into H3 cells\n",
    "binned_cells = h3bin(points_geojson, resolution=8, stats='count', field='value')\n",
    "print(\"Binned cells:\")\n",
    "print(json.dumps(binned_cells, indent=2))"
   ]
  },
  {
   "cell_type": "markdown",
   "id": "f204c9b0",
   "metadata": {},
   "source": [
    "---\n",
    "\n",
    "## 4. DGGS Resampling\n",
    "\n",
    "Let's demonstrate how to resample between different DGGS types:"
   ]
  },
  {
   "cell_type": "markdown",
   "id": "eaad117a",
   "metadata": {},
   "source": [
    "---\n",
    "\n",
    "## 5. Visualization\n",
    "\n",
    "Let's visualize some of our DGGS cells using folium:"
   ]
  },
  {
   "cell_type": "code",
   "execution_count": 13,
   "id": "51a3ab77",
   "metadata": {},
   "outputs": [
    {
     "data": {
      "text/html": [
       "<div style=\"width:100%;\"><div style=\"position:relative;width:100%;height:0;padding-bottom:60%;\"><span style=\"color:#565656\">Make this Notebook Trusted to load map: File -> Trust Notebook</span><iframe srcdoc=\"&lt;!DOCTYPE html&gt;\n",
       "&lt;html&gt;\n",
       "&lt;head&gt;\n",
       "    \n",
       "    &lt;meta http-equiv=&quot;content-type&quot; content=&quot;text/html; charset=UTF-8&quot; /&gt;\n",
       "    \n",
       "        &lt;script&gt;\n",
       "            L_NO_TOUCH = false;\n",
       "            L_DISABLE_3D = false;\n",
       "        &lt;/script&gt;\n",
       "    \n",
       "    &lt;style&gt;html, body {width: 100%;height: 100%;margin: 0;padding: 0;}&lt;/style&gt;\n",
       "    &lt;style&gt;#map {position:absolute;top:0;bottom:0;right:0;left:0;}&lt;/style&gt;\n",
       "    &lt;script src=&quot;https://cdn.jsdelivr.net/npm/leaflet@1.9.3/dist/leaflet.js&quot;&gt;&lt;/script&gt;\n",
       "    &lt;script src=&quot;https://code.jquery.com/jquery-1.12.4.min.js&quot;&gt;&lt;/script&gt;\n",
       "    &lt;script src=&quot;https://cdn.jsdelivr.net/npm/bootstrap@5.2.2/dist/js/bootstrap.bundle.min.js&quot;&gt;&lt;/script&gt;\n",
       "    &lt;script src=&quot;https://cdnjs.cloudflare.com/ajax/libs/Leaflet.awesome-markers/2.0.2/leaflet.awesome-markers.js&quot;&gt;&lt;/script&gt;\n",
       "    &lt;link rel=&quot;stylesheet&quot; href=&quot;https://cdn.jsdelivr.net/npm/leaflet@1.9.3/dist/leaflet.css&quot;/&gt;\n",
       "    &lt;link rel=&quot;stylesheet&quot; href=&quot;https://cdn.jsdelivr.net/npm/bootstrap@5.2.2/dist/css/bootstrap.min.css&quot;/&gt;\n",
       "    &lt;link rel=&quot;stylesheet&quot; href=&quot;https://netdna.bootstrapcdn.com/bootstrap/3.0.0/css/bootstrap.min.css&quot;/&gt;\n",
       "    &lt;link rel=&quot;stylesheet&quot; href=&quot;https://cdn.jsdelivr.net/npm/@fortawesome/fontawesome-free@6.2.0/css/all.min.css&quot;/&gt;\n",
       "    &lt;link rel=&quot;stylesheet&quot; href=&quot;https://cdnjs.cloudflare.com/ajax/libs/Leaflet.awesome-markers/2.0.2/leaflet.awesome-markers.css&quot;/&gt;\n",
       "    &lt;link rel=&quot;stylesheet&quot; href=&quot;https://cdn.jsdelivr.net/gh/python-visualization/folium/folium/templates/leaflet.awesome.rotate.min.css&quot;/&gt;\n",
       "    \n",
       "            &lt;meta name=&quot;viewport&quot; content=&quot;width=device-width,\n",
       "                initial-scale=1.0, maximum-scale=1.0, user-scalable=no&quot; /&gt;\n",
       "            &lt;style&gt;\n",
       "                #map_95f56d7b25420c079c780eae05458565 {\n",
       "                    position: relative;\n",
       "                    width: 100.0%;\n",
       "                    height: 100.0%;\n",
       "                    left: 0.0%;\n",
       "                    top: 0.0%;\n",
       "                }\n",
       "                .leaflet-container { font-size: 1rem; }\n",
       "            &lt;/style&gt;\n",
       "        \n",
       "&lt;/head&gt;\n",
       "&lt;body&gt;\n",
       "    \n",
       "    \n",
       "            &lt;div class=&quot;folium-map&quot; id=&quot;map_95f56d7b25420c079c780eae05458565&quot; &gt;&lt;/div&gt;\n",
       "        \n",
       "&lt;/body&gt;\n",
       "&lt;script&gt;\n",
       "    \n",
       "    \n",
       "            var map_95f56d7b25420c079c780eae05458565 = L.map(\n",
       "                &quot;map_95f56d7b25420c079c780eae05458565&quot;,\n",
       "                {\n",
       "                    center: [10.775276, 106.706797],\n",
       "                    crs: L.CRS.EPSG3857,\n",
       "                    zoom: 12,\n",
       "                    zoomControl: true,\n",
       "                    preferCanvas: false,\n",
       "                }\n",
       "            );\n",
       "\n",
       "            \n",
       "\n",
       "        \n",
       "    \n",
       "            var tile_layer_f6ddb237a664b9791376883674e8426f = L.tileLayer(\n",
       "                &quot;https://{s}.tile.openstreetmap.org/{z}/{x}/{y}.png&quot;,\n",
       "                {&quot;attribution&quot;: &quot;Data by \\u0026copy; \\u003ca target=\\&quot;_blank\\&quot; href=\\&quot;http://openstreetmap.org\\&quot;\\u003eOpenStreetMap\\u003c/a\\u003e, under \\u003ca target=\\&quot;_blank\\&quot; href=\\&quot;http://www.openstreetmap.org/copyright\\&quot;\\u003eODbL\\u003c/a\\u003e.&quot;, &quot;detectRetina&quot;: false, &quot;maxNativeZoom&quot;: 18, &quot;maxZoom&quot;: 18, &quot;minZoom&quot;: 0, &quot;noWrap&quot;: false, &quot;opacity&quot;: 1, &quot;subdomains&quot;: &quot;abc&quot;, &quot;tms&quot;: false}\n",
       "            ).addTo(map_95f56d7b25420c079c780eae05458565);\n",
       "        \n",
       "    \n",
       "        function geo_json_78e0d3607e5e703f5e353c75aa73061b_styler(feature) {\n",
       "            switch(feature.properties.h3) {\n",
       "                default:\n",
       "                    return {&quot;color&quot;: &quot;black&quot;, &quot;fillColor&quot;: &quot;blue&quot;, &quot;fillOpacity&quot;: 0.3, &quot;weight&quot;: 1};\n",
       "            }\n",
       "        }\n",
       "\n",
       "        function geo_json_78e0d3607e5e703f5e353c75aa73061b_onEachFeature(feature, layer) {\n",
       "            layer.on({\n",
       "            });\n",
       "        };\n",
       "        var geo_json_78e0d3607e5e703f5e353c75aa73061b = L.geoJson(null, {\n",
       "                onEachFeature: geo_json_78e0d3607e5e703f5e353c75aa73061b_onEachFeature,\n",
       "            \n",
       "                style: geo_json_78e0d3607e5e703f5e353c75aa73061b_styler,\n",
       "        });\n",
       "\n",
       "        function geo_json_78e0d3607e5e703f5e353c75aa73061b_add (data) {\n",
       "            geo_json_78e0d3607e5e703f5e353c75aa73061b\n",
       "                .addData(data)\n",
       "                .addTo(map_95f56d7b25420c079c780eae05458565);\n",
       "        }\n",
       "            geo_json_78e0d3607e5e703f5e353c75aa73061b_add({&quot;features&quot;: [{&quot;geometry&quot;: {&quot;coordinates&quot;: [[[107.650283605959, 10.25430313874885], [107.50207870137739, 10.906925086770746], [106.8614797074879, 11.105867381776402], [106.3696893292219, 10.649457561332486], [106.52116689760685, 9.995054054193357], [107.16118351272775, 9.798825362645363], [107.650283605959, 10.25430313874885]]], &quot;type&quot;: &quot;Polygon&quot;}, &quot;properties&quot;: {&quot;avg_edge_len&quot;: 73739.091, &quot;cell_area&quot;: 14126814000.077, &quot;center_lat&quot;: 10.4520797, &quot;center_lon&quot;: 107.0104955, &quot;h3&quot;: &quot;8365b5fffffffff&quot;, &quot;resolution&quot;: 3}, &quot;type&quot;: &quot;Feature&quot;}], &quot;type&quot;: &quot;FeatureCollection&quot;});\n",
       "\n",
       "        \n",
       "&lt;/script&gt;\n",
       "&lt;/html&gt;\" style=\"position:absolute;width:100%;height:100%;left:0;top:0;border:none !important;\" allowfullscreen webkitallowfullscreen mozallowfullscreen></iframe></div></div>"
      ],
      "text/plain": [
       "<folium.folium.Map at 0x1ff6cdaeed0>"
      ]
     },
     "execution_count": 13,
     "metadata": {},
     "output_type": "execute_result"
    }
   ],
   "source": [
    "import folium\n",
    "from vgrid.conversion.geojson2dggs import geojson2h3\n",
    "\n",
    "lat, lon = 10.775276, 106.706797\n",
    "\n",
    "# Convert to H3\n",
    "h3_cell = latlon2h3(lat, lon, 3)\n",
    "cell_geojson = h32geojson(h3_cell)\n",
    "# Create a map centered on Ho Chi Minh City\n",
    "m = folium.Map(location=[10.775276, 106.706797], zoom_start=12)\n",
    "# Add H3 cells\n",
    "folium.GeoJson(\n",
    "    cell_geojson,\n",
    "    style_function=lambda x: {'fillColor': 'blue', 'color': 'black', 'weight': 1, 'fillOpacity': 0.3}\n",
    ").add_to(m)\n",
    "\n",
    "# Display the map\n",
    "m"
   ]
  },
  {
   "cell_type": "markdown",
   "id": "f403a004",
   "metadata": {},
   "source": [
    "---\n",
    "\n",
    "## Tips\n",
    "- You may need to install extra dependencies:\n",
    "  ```bash\n",
    "  pip install folium geopandas pandas\n",
    "  ```\n",
    "- If you want to add more examples (e.g., raster conversion, other DGGS types), just add more code blocks following the same pattern. "
   ]
  }
 ],
 "metadata": {
  "jupytext": {
   "cell_metadata_filter": "-all",
   "main_language": "python",
   "notebook_metadata_filter": "-all"
  },
  "kernelspec": {
   "display_name": "Python 3",
   "language": "python",
   "name": "python3"
  },
  "language_info": {
   "codemirror_mode": {
    "name": "ipython",
    "version": 3
   },
   "file_extension": ".py",
   "mimetype": "text/x-python",
   "name": "python",
   "nbconvert_exporter": "python",
   "pygments_lexer": "ipython3",
   "version": "3.11.9"
  }
 },
 "nbformat": 4,
 "nbformat_minor": 5
}
